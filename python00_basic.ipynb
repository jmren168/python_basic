{
  "nbformat": 4,
  "nbformat_minor": 0,
  "metadata": {
    "colab": {
      "name": "python00_basic.ipynb",
      "version": "0.3.2",
      "provenance": [],
      "collapsed_sections": [],
      "include_colab_link": true
    },
    "kernelspec": {
      "name": "python3",
      "display_name": "Python 3"
    }
  },
  "cells": [
    {
      "cell_type": "markdown",
      "metadata": {
        "id": "view-in-github",
        "colab_type": "text"
      },
      "source": [
        "<a href=\"https://colab.research.google.com/github/jmren168/python_basic/blob/master/python00_basic.ipynb\" target=\"_parent\"><img src=\"https://colab.research.google.com/assets/colab-badge.svg\" alt=\"Open In Colab\"/></a>"
      ]
    },
    {
      "cell_type": "markdown",
      "metadata": {
        "id": "ORzEo-R4r5sK",
        "colab_type": "text"
      },
      "source": [
        "# Python基礎語法"
      ]
    },
    {
      "cell_type": "markdown",
      "metadata": {
        "id": "yjGiN_m-omke",
        "colab_type": "text"
      },
      "source": [
        "介紹python一些簡單的語法，不同於其他的語法(ex Java、C..)需要對變數做明確的宣告型別，Python宣告變數不用特別宣告型別。\n",
        "\n",
        "\n",
        "\n",
        "*   名詞解釋\n",
        "\n",
        "> **變數**: 隨時可以改變內容的容器名稱，當設計者使用一個變數時，應用程式就會配置一塊記憶體給此變數使用，以變數名稱作為辨識此塊記憶體的標誌，系統會依據資料型態決定配置的記憶體大小。\n",
        "\n",
        "> **運算子**：指定資料做哪一種運算。e.g.,  +,-,*....\n",
        "\n",
        "> **運算元**：進行運算的資料。 e.g., 2 + 3 -> 2和3是運算元\n",
        "\n",
        "\n"
      ]
    },
    {
      "cell_type": "markdown",
      "metadata": {
        "id": "448tXAPZppA3",
        "colab_type": "text"
      },
      "source": [
        "#變數"
      ]
    },
    {
      "cell_type": "markdown",
      "metadata": {
        "id": "SPPHa8qVpr24",
        "colab_type": "text"
      },
      "source": [
        "\n",
        "\n",
        "*   宣告變數\n",
        "\n",
        "> python變數不須宣告就可以使用。例如以下程式(在Javascript中需要使用 let, const)。在Python中使用「#」當註解符號\n",
        "\n",
        "> > 例如: fruit = \"香蕉\" #fruit 的資料型態為字串\n",
        "\n",
        "> 同一列指定多個變數，變數之間用「,」分隔\n",
        "\n",
        ">> 例如: age, animal = 18, \"兔子\" #age的值為18, animal的值為 \"兔子\""
      ]
    },
    {
      "cell_type": "markdown",
      "metadata": {
        "id": "wlvf9SGhqNke",
        "colab_type": "text"
      },
      "source": [
        "#資料型態"
      ]
    },
    {
      "cell_type": "markdown",
      "metadata": {
        "id": "eHeewuaIqQRr",
        "colab_type": "text"
      },
      "source": [
        "\n",
        "\n",
        "1.   數值(有分整數和浮點數)\n",
        "2.   布林(Ture,False)\n",
        "3.   字串(文字字元)\n",
        "\n",
        "> 以下示範宣告不同資料型態\n",
        "\n",
        ">  num1 = 34 #整數\n",
        "  \n",
        ">  num2 = 67.83 #浮點數\n",
        "  \n",
        ">  flag1 = True #bool型態 T為大寫\n",
        "  \n",
        ">  flag2 = False #bool型態 F為大寫\n",
        "  \n",
        ">  str1 = \"這是字串\" "
      ]
    },
    {
      "cell_type": "markdown",
      "metadata": {
        "id": "qhq6rnfhsCqu",
        "colab_type": "text"
      },
      "source": [
        "# print及type指令"
      ]
    },
    {
      "cell_type": "markdown",
      "metadata": {
        "id": "Z5jBJiekqvQw",
        "colab_type": "text"
      },
      "source": [
        "\n",
        "*   print的語法\n",
        "\n",
        "> print(項目1[,項目2, ...., sep=\"分隔字元\", end=\"結束字元\"])\n",
        "\n"
      ]
    },
    {
      "cell_type": "code",
      "metadata": {
        "id": "5FWY-4wvrL0z",
        "colab_type": "code",
        "outputId": "4fb58625-9986-4f98-d0dc-41c5d623a8db",
        "colab": {
          "base_uri": "https://localhost:8080/",
          "height": 35
        }
      },
      "source": [
        "print('hello world')"
      ],
      "execution_count": 0,
      "outputs": [
        {
          "output_type": "stream",
          "text": [
            "hello world\n"
          ],
          "name": "stdout"
        }
      ]
    },
    {
      "cell_type": "markdown",
      "metadata": {
        "id": "mangwAKl2Ie0",
        "colab_type": "text"
      },
      "source": [
        "* type指令會取得物件的資料型態\n",
        "\n",
        "> print(type(2018))\n",
        "\n",
        "> print(type(\"python程式語言\"))\n",
        "\n",
        "> print(type(True))\n"
      ]
    },
    {
      "cell_type": "code",
      "metadata": {
        "id": "hQoT_HQzvVsi",
        "colab_type": "code",
        "outputId": "fa991a6e-7dc6-4d3a-fa5c-a02bb94f161a",
        "colab": {
          "base_uri": "https://localhost:8080/",
          "height": 67
        }
      },
      "source": [
        "print(type(2018))\n",
        "print(type(\"python程式語言\"))\n",
        "print(type(True))"
      ],
      "execution_count": 0,
      "outputs": [
        {
          "output_type": "stream",
          "text": [
            "<class 'int'>\n",
            "<class 'str'>\n",
            "<class 'bool'>\n"
          ],
          "name": "stdout"
        }
      ]
    },
    {
      "cell_type": "markdown",
      "metadata": {
        "id": "5drxG4F3rn_u",
        "colab_type": "text"
      },
      "source": [
        "# 常用運算子"
      ]
    },
    {
      "cell_type": "markdown",
      "metadata": {
        "id": "ll4KBYwsrsee",
        "colab_type": "text"
      },
      "source": [
        "* 算術運算子\n",
        "\n",
        "> +, -, *, /, %, //(取得整除的商數), ** (次方, 7**2 = 49)\n",
        "\n",
        "* 關係運算子\n",
        "\n",
        "> ==, !=, >, <, >=, <=\n",
        "\n",
        "* 邏輯運算子\n",
        "\n",
        "> not, and, or\n",
        "\n",
        "* 判斷式\n",
        "\n",
        "> python 語言以冒號「:」以及縮排來表示程式區塊"
      ]
    },
    {
      "cell_type": "code",
      "metadata": {
        "id": "LT0ucsLpstrf",
        "colab_type": "code",
        "outputId": "e3cb0012-0d90-4c46-d692-b5c3e695d70b",
        "colab": {
          "base_uri": "https://localhost:8080/",
          "height": 50
        }
      },
      "source": [
        "winner = input(\"請問今天是星期三嗎? 請輸入Yes or No? \")\n",
        "\n",
        "if(winner==\"Yes\"):\n",
        "  print(\"恭喜你答對了!!\")\n",
        "else:\n",
        "  print(\"不好意思你答錯了~><~\")"
      ],
      "execution_count": 0,
      "outputs": [
        {
          "output_type": "stream",
          "text": [
            "請問今天是星期三嗎? 請輸入Yes or No? Yes\n",
            "恭喜你答對了!!\n"
          ],
          "name": "stdout"
        }
      ]
    },
    {
      "cell_type": "markdown",
      "metadata": {
        "id": "uHpd4Zq62yiZ",
        "colab_type": "text"
      },
      "source": [
        "* 巢狀判斷式"
      ]
    },
    {
      "cell_type": "code",
      "metadata": {
        "id": "xDWC0qun3Bpn",
        "colab_type": "code",
        "outputId": "26d83c62-09c9-43fd-e90e-3c6d7469f9f6",
        "colab": {
          "base_uri": "https://localhost:8080/",
          "height": 50
        }
      },
      "source": [
        "num = int(input(\"請問一星期有幾天?\"))\n",
        "if(num>=3):\n",
        "    if(num==7):\n",
        "     print(\"沒錯!!剛好就是7天\")\n",
        "    elif(num>=6):\n",
        "     print(\"已經非常接近了\")\n",
        "    else:\n",
        "     print(\"不好意思，離正確答案還有一段距離\")\n",
        "else:\n",
        " print(\"沒有這麼少喔\")"
      ],
      "execution_count": 0,
      "outputs": [
        {
          "output_type": "stream",
          "text": [
            "請問一星期有幾天?5\n",
            "不好意思，離正確答案還有一段距離\n"
          ],
          "name": "stdout"
        }
      ]
    },
    {
      "cell_type": "markdown",
      "metadata": {
        "id": "IG45toC23Hsm",
        "colab_type": "text"
      },
      "source": [
        "#資料型態: list(串列)\n",
        "\n",
        "串列：由零或多個元素組成的，以「,」逗號分隔，並且放在[]裡面。\n",
        "\n",
        "語法：[element1,element2.....]\n",
        "\n",
        "以下示範建立基本的串列結構，和如何取值"
      ]
    },
    {
      "cell_type": "code",
      "metadata": {
        "id": "oKYzfSEEyOto",
        "colab_type": "code",
        "outputId": "c30d11b3-3f3a-4193-d9ea-04c191de0fe9",
        "colab": {
          "base_uri": "https://localhost:8080/",
          "height": 50
        }
      },
      "source": [
        "week_list = [\"星期日\", \"星期一\", \"星期二\", \"星期三\", \"星期四\", \"星期五\", \"星期六\"]\n",
        "\n",
        "print('一星期的第一天', week_list[0]) \n",
        "print('一星期的到數第二天', week_list[-2])\n"
      ],
      "execution_count": 0,
      "outputs": [
        {
          "output_type": "stream",
          "text": [
            "一星期的第一天 星期日\n",
            "一星期的到數第二天 星期五\n"
          ],
          "name": "stdout"
        }
      ]
    },
    {
      "cell_type": "markdown",
      "metadata": {
        "id": "9n47tqln_m3w",
        "colab_type": "text"
      },
      "source": [
        "* append()\n",
        "\n",
        "> append : 新增元素到串列中\n",
        "\n",
        "> 語法: 串列.append(x), 新增x至串列中\n",
        "\n",
        "> 以下示範建立基本的串列結構，和如何新增元素"
      ]
    },
    {
      "cell_type": "code",
      "metadata": {
        "id": "fqbzqwyr_2Nj",
        "colab_type": "code",
        "outputId": "9086c4cd-2da7-48ff-9594-9dc208ca7bfc",
        "colab": {
          "base_uri": "https://localhost:8080/",
          "height": 50
        }
      },
      "source": [
        "num_list = [1,2,3,4,5]\n",
        "\n",
        "print('新增前 --->', num_list)\n",
        "\n",
        "num_list.append(15)\n",
        "print('新增後 --->', num_list)"
      ],
      "execution_count": 0,
      "outputs": [
        {
          "output_type": "stream",
          "text": [
            "新增前 ---> [1, 2, 3, 4, 5]\n",
            "新增後 ---> [1, 2, 3, 4, 5, 15]\n"
          ],
          "name": "stdout"
        }
      ]
    },
    {
      "cell_type": "markdown",
      "metadata": {
        "id": "bCSGY0xZvieS",
        "colab_type": "text"
      },
      "source": [
        "* range()\n",
        "\n",
        "> range：建立整數的串列可用range\n",
        "\n",
        "> 語法: range(起始值 [,終止值, 間格值])"
      ]
    },
    {
      "cell_type": "code",
      "metadata": {
        "id": "hv42NjD4vp0i",
        "colab_type": "code",
        "outputId": "038892df-d053-4d1d-e924-27505765376f",
        "colab": {
          "base_uri": "https://localhost:8080/",
          "height": 67
        }
      },
      "source": [
        "list1 = range(5)\n",
        "list2 = range(3,8)\n",
        "list3 = range(3,8,2)\n",
        "print(list(list1))\n",
        "print(list(list2))\n",
        "print(list(list3))"
      ],
      "execution_count": 0,
      "outputs": [
        {
          "output_type": "stream",
          "text": [
            "[0, 1, 2, 3, 4]\n",
            "[3, 4, 5, 6, 7]\n",
            "[3, 5, 7]\n"
          ],
          "name": "stdout"
        }
      ]
    },
    {
      "cell_type": "markdown",
      "metadata": {
        "id": "JT36jbPCCHgs",
        "colab_type": "text"
      },
      "source": [
        "# 常用內建函數\n",
        "\n",
        "* sum(): 加總\n",
        "* len(): 長度"
      ]
    },
    {
      "cell_type": "code",
      "metadata": {
        "id": "3T2OTqbhCXsF",
        "colab_type": "code",
        "outputId": "cac7387a-a856-4701-8427-479d47734b6c",
        "colab": {
          "base_uri": "https://localhost:8080/",
          "height": 67
        }
      },
      "source": [
        "num_list = [1,3,5,7,9]\n",
        "print(num_list)\n",
        "print('總合 ---> ', sum(num_list))\n",
        "print('長度 ---> ', len(num_list))"
      ],
      "execution_count": 0,
      "outputs": [
        {
          "output_type": "stream",
          "text": [
            "[1, 3, 5, 7, 9]\n",
            "總合 --->  25\n",
            "長度 --->  5\n"
          ],
          "name": "stdout"
        }
      ]
    },
    {
      "cell_type": "markdown",
      "metadata": {
        "id": "NEpt3nSpvjPA",
        "colab_type": "text"
      },
      "source": [
        "#迴圈\n",
        "\n",
        "python用縮排和冒號「:」來表示迴圈區塊\n",
        "\n",
        "* for\n",
        "\n",
        "> 示範單一for迴圈"
      ]
    },
    {
      "cell_type": "code",
      "metadata": {
        "id": "4cL9AUl7vnXD",
        "colab_type": "code",
        "outputId": "3c392c45-dedc-4ef6-a6fc-d22b164b50a2",
        "colab": {
          "base_uri": "https://localhost:8080/",
          "height": 101
        }
      },
      "source": [
        "for i in range(5):\n",
        "  print(i)"
      ],
      "execution_count": 0,
      "outputs": [
        {
          "output_type": "stream",
          "text": [
            "0\n",
            "1\n",
            "2\n",
            "3\n",
            "4\n"
          ],
          "name": "stdout"
        }
      ]
    },
    {
      "cell_type": "markdown",
      "metadata": {
        "id": "LeQ61vFIwyRz",
        "colab_type": "text"
      },
      "source": [
        "#import package\n",
        "\n",
        "如果想要引用其他module裡面的function、class、variable。就需要使用import的方式引用進來。\n",
        "\n",
        "> **方法1** import 套件名稱\n",
        "\n",
        "> 套件名稱.函數名稱 # 使用函數的方式\n",
        "\n",
        "> **方法2** import 套件名稱 as 別名\n",
        "\n",
        "> 別名.函數名稱 # 使用函數的方式"
      ]
    },
    {
      "cell_type": "markdown",
      "metadata": {
        "id": "8KMa6WvHsLe5",
        "colab_type": "text"
      },
      "source": [
        "# 常用library\n",
        "\n",
        "* **numpy**\n",
        "\n",
        "> 構建科學計算程式最基礎的library, 提供數學運算向量化\n",
        "\n",
        "* **matplotlib**\n",
        "\n",
        "> 視覺化library, 例如折線圖, 長條圖,  散布圖"
      ]
    },
    {
      "cell_type": "code",
      "metadata": {
        "id": "rMBqjAemsQT4",
        "colab_type": "code",
        "outputId": "0f7f3bf9-7445-4880-d018-7a69e1c257ae",
        "colab": {
          "base_uri": "https://localhost:8080/",
          "height": 202
        }
      },
      "source": [
        "import numpy as np\n",
        "\n",
        "print('維度相同的矩陣相加、減:')\n",
        "# 維度相同的矩陣相加、減\n",
        "a = np.array( [6, 7, 8, 9] )\n",
        "b = np.array( [1, 3, 5, 7] )\n",
        "\n",
        "print('a=',a)\n",
        "print('b=',b)\n",
        "\n",
        "print('a+b=',a+b)\n",
        " \n",
        "\n",
        "print('\\n同加、同減一個數值:')\n",
        "# 同加、同減一個數值\n",
        "a += 5\n",
        "print('a=',a)\n",
        "b -= 5\n",
        "print('b=',b)\n",
        "\n",
        "\n",
        "print('\\n次方：')\n",
        "# c是b的2次方\n",
        "# c is squared of b.\n",
        "c = b**2\n",
        "print('c=',c)"
      ],
      "execution_count": 0,
      "outputs": [
        {
          "output_type": "stream",
          "text": [
            "維度相同的矩陣相加、減:\n",
            "a= [6 7 8 9]\n",
            "b= [1 3 5 7]\n",
            "a+b= [ 7 10 13 16]\n",
            "\n",
            "同加、同減一個數值:\n",
            "a= [11 12 13 14]\n",
            "b= [-4 -2  0  2]\n",
            "\n",
            "次方：\n",
            "c= [16  4  0  4]\n"
          ],
          "name": "stdout"
        }
      ]
    },
    {
      "cell_type": "markdown",
      "metadata": {
        "id": "xQeTeMLY5syd",
        "colab_type": "text"
      },
      "source": [
        "# matplotlib library"
      ]
    },
    {
      "cell_type": "code",
      "metadata": {
        "id": "-EoHEeqy6H28",
        "colab_type": "code",
        "outputId": "4bb334bd-4118-4a88-893d-9726c836f5ba",
        "colab": {
          "base_uri": "https://localhost:8080/",
          "height": 269
        }
      },
      "source": [
        "import matplotlib.pyplot as plt\n",
        "\n",
        "a = np.array([1,2,3,4])\n",
        "plt.plot(a)\n",
        "plt.show()"
      ],
      "execution_count": 0,
      "outputs": [
        {
          "output_type": "display_data",
          "data": {
            "image/png": "[encoded data removed]",
            "text/plain": [
              "<Figure size 432x288 with 1 Axes>"
            ]
          },
          "metadata": {
            "tags": []
          }
        }
      ]
    },
    {
      "cell_type": "markdown",
      "metadata": {
        "id": "F77Y_8YT6jyC",
        "colab_type": "text"
      },
      "source": [
        "**為圖表加上label**"
      ]
    },
    {
      "cell_type": "code",
      "metadata": {
        "id": "BYFp1ucZ6fd5",
        "colab_type": "code",
        "outputId": "65e027e4-16cf-44ac-d1f4-1e52789f6cbf",
        "colab": {
          "base_uri": "https://localhost:8080/",
          "height": 283
        }
      },
      "source": [
        "a = np.array([1,2,3,4])\n",
        "plt.plot(a)\n",
        "plt.xlabel('x')\n",
        "plt.ylabel('y')\n",
        "plt.show()"
      ],
      "execution_count": 0,
      "outputs": [
        {
          "output_type": "display_data",
          "data": {
            "image/png": "[encoded data removed]",
            "text/plain": [
              "<Figure size 432x288 with 1 Axes>"
            ]
          },
          "metadata": {
            "tags": []
          }
        }
      ]
    },
    {
      "cell_type": "code",
      "metadata": {
        "id": "-_TDcAsNymPe",
        "colab_type": "code",
        "colab": {}
      },
      "source": [
        ""
      ],
      "execution_count": 0,
      "outputs": []
    },
    {
      "cell_type": "markdown",
      "metadata": {
        "id": "CtjfXUUl6xeR",
        "colab_type": "text"
      },
      "source": [
        "**長條圖**"
      ]
    },
    {
      "cell_type": "code",
      "metadata": {
        "id": "atCMFMAy68o8",
        "colab_type": "code",
        "outputId": "2c6c99b4-797e-468b-ecee-4b0f2c901239",
        "colab": {
          "base_uri": "https://localhost:8080/",
          "height": 283
        }
      },
      "source": [
        "x = range(0,10) \n",
        "y = np.array([2,3,1,2,7,6,4,4,8,4])\n",
        "\n",
        "plt.bar(x,y)\n",
        "plt.xlabel('value')\n",
        "plt.ylabel('count')\n",
        "plt.show()"
      ],
      "execution_count": 0,
      "outputs": [
        {
          "output_type": "display_data",
          "data": {
            "image/png": "[encoded data removed]",
            "text/plain": [
              "<Figure size 432x288 with 1 Axes>"
            ]
          },
          "metadata": {
            "tags": []
          }
        }
      ]
    },
    {
      "cell_type": "markdown",
      "metadata": {
        "id": "motImSqW7pfM",
        "colab_type": "text"
      },
      "source": [
        "**散布圖**"
      ]
    },
    {
      "cell_type": "code",
      "metadata": {
        "id": "acLtgCzZ7s-F",
        "colab_type": "code",
        "outputId": "94cb699b-cda0-4a5a-e0ee-c53b51fbac82",
        "colab": {
          "base_uri": "https://localhost:8080/",
          "height": 269
        }
      },
      "source": [
        "plt.scatter(x,y)\n",
        "plt.show()"
      ],
      "execution_count": 0,
      "outputs": [
        {
          "output_type": "display_data",
          "data": {
            "image/png": "[encoded data removed]",
            "text/plain": [
              "<Figure size 432x288 with 1 Axes>"
            ]
          },
          "metadata": {
            "tags": []
          }
        }
      ]
    },
    {
      "cell_type": "markdown",
      "metadata": {
        "id": "_NnI-Gu3z6nQ",
        "colab_type": "text"
      },
      "source": [
        "參考文獻: \n",
        "\n",
        "https://ithelp.ithome.com.tw/articles/10200049\n",
        "\n",
        "https://ithelp.ithome.com.tw/articles/10200547\n",
        "\n",
        "https://ithelp.ithome.com.tw/articles/10201851\n",
        "\n",
        "https://www.brilliantcode.net/1062/numpy-tutorial-basic-operations/\n",
        "\n"
      ]
    }
  ]
}